{
  "nbformat": 4,
  "nbformat_minor": 0,
  "metadata": {
    "colab": {
      "provenance": []
    },
    "kernelspec": {
      "name": "python3",
      "display_name": "Python 3"
    },
    "language_info": {
      "name": "python"
    }
  },
  "cells": [
    {
      "cell_type": "markdown",
      "source": [
        "# ChatGPT-generated PowerPoint\n",
        "Press \"Copy to Drive\" first before continuing!\n",
        "<br>\n",
        "https://github.com/TheSiker"
      ],
      "metadata": {
        "id": "oJKfkz8eESO0"
      }
    },
    {
      "cell_type": "code",
      "execution_count": null,
      "metadata": {
        "id": "1cHj3a2zDZlU"
      },
      "outputs": [],
      "source": [
        "# Run this code first. This is necessary for the ENTIRE THING to work! Otherwise it won't work!\n",
        "!pip install python-pptx"
      ]
    },
    {
      "cell_type": "markdown",
      "source": [
        "After executing the first code, copy the either the first prompt or the second prompt and go to ChatGPT and paste the prompt.\n",
        "\n",
        "```\n",
        "[FOR A LANGUAGE-SPECIFIC PROMPT FOR EXAMPLE, A \n",
        "POWERPOINT THAT IS ABOUT COLOMBIA AND MUST BE IN SPANISH]\n",
        "\n",
        "Write a python code that generates a pptx file about [INSERT SUBJECT]. \n",
        "Make sure that the slides are in [INSERT LANGUAGE], and that you make at least 4 slides in addition, and that you cite the refrences at the end of the powerpoint. EVERY SLIDE SHOULD HAVE A TITLE AND THE PYTHON CODE MUST UTILIZE THE PYTHON-PPTX LIBRARY AND MAKE THE SLIDES' ASPECT RATIO INTO 16:9\n",
        "\n",
        "[NO LANGUAGE-SPECIFIC PROMPT FOR EXAMPLE, A \n",
        "POWERPOINT THAT IS ABOUT CHEMISTRY]\n",
        "\n",
        "Write a python code that generates a pptx file about [INSERT SUBJECT]. \n",
        "Make sure that you make at least 4 slides in addition, and that you cite the refrences at the end of the powerpoint. EVERY SLIDE SHOULD HAVE A TITLE AND THE PYTHON CODE MUST UTILIZE THE PYTHON-PPTX LIBRARY AND MAKE THE SLIDES' ASPECT RATIO INTO 16:9\n",
        " \n",
        "```\n",
        "Once you got the code, it should be using the python-pptx library\n",
        "Then, go to the bottom line and paste code below that you got from ChatGPT.\n",
        "If it works, it shall save in the \"Files\" tab, where you can right click the pptx, and download it.\n"
      ],
      "metadata": {
        "id": "nnXo4ABCEsaB"
      }
    },
    {
      "cell_type": "code",
      "source": [
        "# DELETE THIS LINE FIRST, THEN PASTE THE CODE YOU GOT FROM CHATGPT"
      ],
      "metadata": {
        "id": "QtqUMYUDGNJI"
      },
      "execution_count": null,
      "outputs": []
    }
  ]
}