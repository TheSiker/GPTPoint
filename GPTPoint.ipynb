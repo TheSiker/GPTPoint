{
  "nbformat": 4,
  "nbformat_minor": 0,
  "metadata": {
    "colab": {
      "provenance": [],
      "authorship_tag": "ABX9TyMQblfx/BOkp1R56HSG01a7",
      "include_colab_link": true
    },
    "kernelspec": {
      "name": "python3",
      "display_name": "Python 3"
    },
    "language_info": {
      "name": "python"
    }
  },
  "cells": [
    {
      "cell_type": "markdown",
      "metadata": {
        "id": "view-in-github",
        "colab_type": "text"
      },
      "source": [
        "<a href=\"https://colab.research.google.com/github/TheSiker/GPTPoint/blob/main/GPTPoint.ipynb\" target=\"_parent\"><img src=\"https://colab.research.google.com/assets/colab-badge.svg\" alt=\"Open In Colab\"/></a>"
      ]
    },
    {
      "cell_type": "markdown",
      "source": [
        "# ChatGPT-generated PowerPoint"
      ],
      "metadata": {
        "id": "oJKfkz8eESO0"
      }
    },
    {
      "cell_type": "code",
      "execution_count": null,
      "metadata": {
        "id": "1cHj3a2zDZlU"
      },
      "outputs": [],
      "source": [
        "# Run this code first. This is necessary for the ENTIRE THING to work! Otherwise it won't work!\n",
        "!pip install python-pptx"
      ]
    },
    {
      "cell_type": "markdown",
      "source": [
        "After executing the first code, copy the either the first prompt or the second prompt and go to ChatGPT.\n",
        "\n",
        "```\n",
        "[FOR A LANGUAGE-SPECIFIC PROMPT FOR EXAMPLE, A \n",
        "POWERPOINT THAT IS ABOUT COLOMBIA AND MUST BE IN SPANISH]\n",
        "\n",
        "Write a python code that generates a pptx file about [INSERT SUBJECT]. \n",
        "Make sure that the slides are in [INSERT LANGUAGE], and that you make at least 4 slides in addition, and that you cite the refrences at the end of the powerpoint.\n",
        "\n",
        "[NO LANGUAGE-SPECIFIC PROMPT FOR EXAMPLE, A \n",
        "POWERPOINT THAT IS ABOUT CHEMISTRY]\n",
        "\n",
        "Write a python code that generates a pptx file about [INSERT SUBJECT]. \n",
        "Make sure that you make at least 4 slides in addition, and that you cite the refrences at the end of the powerpoint.\n",
        "```\n",
        "\n"
      ],
      "metadata": {
        "id": "nnXo4ABCEsaB"
      }
    },
    {
      "cell_type": "code",
      "source": [
        "# Once you have returned from ChatGPT, delete this line here, and paste code you got from ChatGPT"
      ],
      "metadata": {
        "id": "QtqUMYUDGNJI"
      },
      "execution_count": null,
      "outputs": []
    }
  ]
}